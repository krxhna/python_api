{
 "cells": [
  {
   "cell_type": "code",
   "execution_count": 1,
   "metadata": {},
   "outputs": [
    {
     "name": "stdout",
     "output_type": "stream",
     "text": [
      "Fdsfd\n"
     ]
    }
   ],
   "source": [
    "print(\"Fdsfd\")"
   ]
  },
  {
   "cell_type": "code",
   "execution_count": 2,
   "metadata": {},
   "outputs": [
    {
     "name": "stderr",
     "output_type": "stream",
     "text": [
      "'pip' is not recognized as an internal or external command,\n",
      "operable program or batch file.\n"
     ]
    }
   ],
   "source": [
    "!pip"
   ]
  },
  {
   "cell_type": "code",
   "execution_count": 3,
   "metadata": {},
   "outputs": [
    {
     "name": "stdout",
     "output_type": "stream",
     "text": [
      "Collecting numpy"
     ]
    },
    {
     "name": "stderr",
     "output_type": "stream",
     "text": [
      "  WARNING: The script f2py.exe is installed in 'C:\\Users\\LENOVO\\AppData\\Local\\Programs\\Python\\Python310\\Scripts' which is not on PATH.\n",
      "  Consider adding this directory to PATH or, if you prefer to suppress this warning, use --no-warn-script-location.\n",
      "WARNING: You are using pip version 21.2.4; however, version 22.0.4 is available.\n",
      "You should consider upgrading via the 'C:\\Users\\LENOVO\\AppData\\Local\\Programs\\Python\\Python310\\python.exe -m pip install --upgrade pip' command.\n"
     ]
    },
    {
     "name": "stdout",
     "output_type": "stream",
     "text": [
      "\n",
      "  Downloading numpy-1.22.3-cp310-cp310-win_amd64.whl (14.7 MB)\n",
      "Installing collected packages: numpy\n",
      "Successfully installed numpy-1.22.3\n"
     ]
    }
   ],
   "source": [
    "!python -m pip install numpy "
   ]
  },
  {
   "cell_type": "code",
   "execution_count": null,
   "metadata": {},
   "outputs": [],
   "source": []
  },
  {
   "cell_type": "code",
   "execution_count": 5,
   "metadata": {},
   "outputs": [],
   "source": [
    "import pandas as pd\n",
    "import numpy as np\n",
    "import matplotlib.pyplot as plt"
   ]
  },
  {
   "cell_type": "code",
   "execution_count": 6,
   "metadata": {},
   "outputs": [],
   "source": [
    "import yfinance as yf\n",
    "\n",
    "msft = yf.Ticker(\"MSFT\")\n",
    "\n"
   ]
  },
  {
   "cell_type": "code",
   "execution_count": null,
   "metadata": {},
   "outputs": [],
   "source": []
  },
  {
   "cell_type": "code",
   "execution_count": 43,
   "metadata": {},
   "outputs": [],
   "source": [
    "appl = yf.Ticker(\"YY\")"
   ]
  },
  {
   "cell_type": "code",
   "execution_count": 44,
   "metadata": {},
   "outputs": [
    {
     "data": {
      "text/plain": [
       "yfinance.Ticker object <YY>"
      ]
     },
     "execution_count": 44,
     "metadata": {},
     "output_type": "execute_result"
    }
   ],
   "source": [
    "appl"
   ]
  },
  {
   "cell_type": "code",
   "execution_count": 3,
   "metadata": {},
   "outputs": [],
   "source": [
    "def getinfo(ticker):\n",
    "    data = yf.Ticker(ticker)\n",
    "    return data.info\n"
   ]
  },
  {
   "cell_type": "code",
   "execution_count": 1,
   "metadata": {},
   "outputs": [],
   "source": [
    "from flask import jsonify"
   ]
  },
  {
   "cell_type": "code",
   "execution_count": 9,
   "metadata": {},
   "outputs": [
    {
     "data": {
      "text/plain": [
       "{'zip': '98052-6399',\n",
       " 'sector': 'Technology',\n",
       " 'fullTimeEmployees': 181000,\n",
       " 'longBusinessSummary': 'Microsoft Corporation develops, licenses, and supports software, services, devices, and solutions worldwide. Its Productivity and Business Processes segment offers Office, Exchange, SharePoint, Microsoft Teams, Office 365 Security and Compliance, and Skype for Business, as well as related Client Access Licenses (CAL); Skype, Outlook.com, OneDrive, and LinkedIn; and Dynamics 365, a set of cloud-based and on-premises business solutions for organizations and enterprise divisions. Its Intelligent Cloud segment licenses SQL, Windows Servers, Visual Studio, System Center, and related CALs; GitHub that provides a collaboration platform and code hosting service for developers; and Azure, a cloud platform. It also offers support services and Microsoft consulting services to assist customers in developing, deploying, and managing Microsoft server and desktop solutions; and training and certification on Microsoft products. Its More Personal Computing segment provides Windows original equipment manufacturer (OEM) licensing and other non-volume licensing of the Windows operating system; Windows Commercial, such as volume licensing of the Windows operating system, Windows cloud services, and other Windows commercial offerings; patent licensing; Windows Internet of Things; and MSN advertising. It also offers Surface, PC accessories, PCs, tablets, gaming and entertainment consoles, and other devices; Gaming, including Xbox hardware, and Xbox content and services; video games and third-party video game royalties; and Search, including Bing and Microsoft advertising. It sells its products through OEMs, distributors, and resellers; and directly through digital marketplaces, online stores, and retail stores. It has collaborations with Dynatrace, Inc., Morgan Stanley, Micro Focus, WPP plc, ACI Worldwide, Inc., and iCIMS, Inc., as well as strategic relationships with Avaya Holdings Corp. and wejo Limited. Microsoft Corporation was founded in 1975 and is based in Redmond, Washington.',\n",
       " 'city': 'Redmond',\n",
       " 'phone': '425 882 8080',\n",
       " 'state': 'WA',\n",
       " 'country': 'United States',\n",
       " 'companyOfficers': [],\n",
       " 'website': 'https://www.microsoft.com',\n",
       " 'maxAge': 1,\n",
       " 'address1': 'One Microsoft Way',\n",
       " 'industry': 'Software—Infrastructure',\n",
       " 'ebitdaMargins': 0.49123,\n",
       " 'profitMargins': 0.38498002,\n",
       " 'grossMargins': 0.68825996,\n",
       " 'operatingCashflow': 83909001216,\n",
       " 'revenueGrowth': 0.201,\n",
       " 'operatingMargins': 0.42523998,\n",
       " 'ebitda': 90829996032,\n",
       " 'targetLowPrice': 306.55,\n",
       " 'recommendationKey': 'buy',\n",
       " 'grossProfits': 115856000000,\n",
       " 'freeCashflow': 46479876096,\n",
       " 'targetMedianPrice': 370,\n",
       " 'currentPrice': 279.005,\n",
       " 'earningsGrowth': 0.222,\n",
       " 'currentRatio': 2.247,\n",
       " 'returnOnAssets': 0.15248999,\n",
       " 'numberOfAnalystOpinions': 46,\n",
       " 'targetMeanPrice': 370.89,\n",
       " 'debtToEquity': 50.217,\n",
       " 'returnOnEquity': 0.49051,\n",
       " 'targetHighPrice': 425,\n",
       " 'totalCash': 125348003840,\n",
       " 'totalDebt': 80353001472,\n",
       " 'totalRevenue': 184902991872,\n",
       " 'totalCashPerShare': 16.72,\n",
       " 'financialCurrency': 'USD',\n",
       " 'revenuePerShare': 24.585,\n",
       " 'quickRatio': 2.05,\n",
       " 'recommendationMean': 1.7,\n",
       " 'exchange': 'NMS',\n",
       " 'shortName': 'Microsoft Corporation',\n",
       " 'longName': 'Microsoft Corporation',\n",
       " 'exchangeTimezoneName': 'America/New_York',\n",
       " 'exchangeTimezoneShortName': 'EDT',\n",
       " 'isEsgPopulated': False,\n",
       " 'gmtOffSetMilliseconds': '-14400000',\n",
       " 'quoteType': 'EQUITY',\n",
       " 'symbol': 'MSFT',\n",
       " 'messageBoardId': 'finmb_21835',\n",
       " 'market': 'us_market',\n",
       " 'annualHoldingsTurnover': None,\n",
       " 'enterpriseToRevenue': 11.112,\n",
       " 'beta3Year': None,\n",
       " 'enterpriseToEbitda': 22.621,\n",
       " '52WeekChange': 0.19275153,\n",
       " 'morningStarRiskRating': None,\n",
       " 'forwardEps': 10.75,\n",
       " 'revenueQuarterlyGrowth': None,\n",
       " 'sharesOutstanding': 7496869888,\n",
       " 'fundInceptionDate': None,\n",
       " 'annualReportExpenseRatio': None,\n",
       " 'totalAssets': None,\n",
       " 'bookValue': 21.335,\n",
       " 'sharesShort': 41488998,\n",
       " 'sharesPercentSharesOut': 0.0055,\n",
       " 'fundFamily': None,\n",
       " 'lastFiscalYearEnd': 1625011200,\n",
       " 'heldPercentInstitutions': 0.71939003,\n",
       " 'netIncomeToCommon': 71184998400,\n",
       " 'trailingEps': 9.389,\n",
       " 'lastDividendValue': 0.62,\n",
       " 'SandP52WeekChange': 0.059303045,\n",
       " 'priceToBook': 13.077338,\n",
       " 'heldPercentInsiders': 0.00059,\n",
       " 'nextFiscalYearEnd': 1688083200,\n",
       " 'yield': None,\n",
       " 'mostRecentQuarter': 1640908800,\n",
       " 'shortRatio': 1.1,\n",
       " 'sharesShortPreviousMonthDate': 1643587200,\n",
       " 'floatShares': 7489894342,\n",
       " 'beta': 0.910925,\n",
       " 'enterpriseValue': 2054652428288,\n",
       " 'priceHint': 2,\n",
       " 'threeYearAverageReturn': None,\n",
       " 'lastSplitDate': 1045526400,\n",
       " 'lastSplitFactor': '2:1',\n",
       " 'legalType': None,\n",
       " 'lastDividendDate': 1644969600,\n",
       " 'morningStarOverallRating': None,\n",
       " 'earningsQuarterlyGrowth': 0.214,\n",
       " 'priceToSalesTrailing12Months': 11.312225,\n",
       " 'dateShortInterest': 1646006400,\n",
       " 'pegRatio': 1.72,\n",
       " 'ytdReturn': None,\n",
       " 'forwardPE': 25.953955,\n",
       " 'lastCapGain': None,\n",
       " 'shortPercentOfFloat': 0.0055,\n",
       " 'sharesShortPriorMonth': 40179258,\n",
       " 'impliedSharesOutstanding': 0,\n",
       " 'category': None,\n",
       " 'fiveYearAverageReturn': None,\n",
       " 'previousClose': 280.07,\n",
       " 'regularMarketOpen': 280.34,\n",
       " 'twoHundredDayAverage': 300.041,\n",
       " 'trailingAnnualDividendYield': 0.008426464,\n",
       " 'payoutRatio': 0.2449,\n",
       " 'volume24Hr': None,\n",
       " 'regularMarketDayHigh': 285.3992,\n",
       " 'navPrice': None,\n",
       " 'averageDailyVolume10Day': 34168930,\n",
       " 'regularMarketPreviousClose': 280.07,\n",
       " 'fiftyDayAverage': 302.3236,\n",
       " 'trailingAnnualDividendRate': 2.36,\n",
       " 'open': 280.34,\n",
       " 'toCurrency': None,\n",
       " 'averageVolume10days': 34168930,\n",
       " 'expireDate': None,\n",
       " 'algorithm': None,\n",
       " 'dividendRate': 2.48,\n",
       " 'exDividendDate': 1644969600,\n",
       " 'circulatingSupply': None,\n",
       " 'startDate': None,\n",
       " 'regularMarketDayLow': 278.68,\n",
       " 'currency': 'USD',\n",
       " 'trailingPE': 29.716158,\n",
       " 'regularMarketVolume': 14340517,\n",
       " 'lastMarket': None,\n",
       " 'maxSupply': None,\n",
       " 'openInterest': None,\n",
       " 'marketCap': 2091664277504,\n",
       " 'volumeAllCurrencies': None,\n",
       " 'strikePrice': None,\n",
       " 'averageVolume': 37530756,\n",
       " 'dayLow': 278.68,\n",
       " 'ask': 279.99,\n",
       " 'askSize': 1800,\n",
       " 'volume': 14340517,\n",
       " 'fiftyTwoWeekHigh': 349.67,\n",
       " 'fromCurrency': None,\n",
       " 'fiveYearAvgDividendYield': 1.34,\n",
       " 'fiftyTwoWeekLow': 229.35,\n",
       " 'bid': 279.96,\n",
       " 'tradeable': False,\n",
       " 'dividendYield': 0.0089,\n",
       " 'bidSize': 1400,\n",
       " 'dayHigh': 285.3992,\n",
       " 'regularMarketPrice': 279.005,\n",
       " 'preMarketPrice': 280.09,\n",
       " 'logo_url': 'https://logo.clearbit.com/microsoft.com',\n",
       " 'trailingPegRatio': 2.4159}"
      ]
     },
     "execution_count": 9,
     "metadata": {},
     "output_type": "execute_result"
    }
   ],
   "source": [
    "data = yf.Ticker('MSFT')\n",
    "data.info"
   ]
  },
  {
   "cell_type": "code",
   "execution_count": 16,
   "metadata": {},
   "outputs": [],
   "source": [
    "\n",
    "\n"
   ]
  },
  {
   "cell_type": "code",
   "execution_count": 20,
   "metadata": {},
   "outputs": [
    {
     "name": "stderr",
     "output_type": "stream",
     "text": [
      "  WARNING: The scripts py.test.exe and pytest.exe are installed in 'C:\\Users\\LENOVO\\AppData\\Local\\Programs\\Python\\Python310\\Scripts' which is not on PATH."
     ]
    },
    {
     "name": "stdout",
     "output_type": "stream",
     "text": [
      "Collecting pytest\n",
      "  Downloading pytest-7.1.0-py3-none-any.whl (297 kB)\n",
      "Collecting tomli>=1.0.0\n",
      "  Downloading tomli-2.0.1-py3-none-any.whl (12 kB)\n",
      "Collecting py>=1.8.2\n",
      "  Downloading py-1.11.0-py2.py3-none-any.whl (98 kB)\n",
      "Collecting attrs>=19.2.0\n",
      "  Downloading attrs-21.4.0-py2.py3-none-any.whl (60 kB)\n",
      "Requirement already satisfied: colorama in c:\\users\\lenovo\\appdata\\local\\programs\\python\\python310\\lib\\site-packages (from pytest) (0.4.4)\n",
      "Collecting pluggy<2.0,>=0.12\n",
      "  Downloading pluggy-1.0.0-py2.py3-none-any.whl (13 kB)\n",
      "Collecting atomicwrites>=1.0\n",
      "  Downloading atomicwrites-1.4.0-py2.py3-none-any.whl (6.8 kB)\n",
      "Requirement already satisfied: packaging in c:\\users\\lenovo\\appdata\\local\\programs\\python\\python310\\lib\\site-packages (from pytest) (21.3)\n",
      "Collecting iniconfig\n",
      "  Downloading iniconfig-1.1.1-py2.py3-none-any.whl (5.0 kB)\n",
      "Requirement already satisfied: pyparsing!=3.0.5,>=2.0.2 in c:\\users\\lenovo\\appdata\\local\\programs\\python\\python310\\lib\\site-packages (from packaging->pytest) (3.0.7)\n",
      "Installing collected packages: tomli, py, pluggy, iniconfig, attrs, atomicwrites, pytest\n",
      "Successfully installed atomicwrites-1.4.0 attrs-21.4.0 iniconfig-1.1.1 pluggy-1.0.0 py-1.11.0 pytest-7.1.0 tomli-2.0.1\n"
     ]
    },
    {
     "name": "stderr",
     "output_type": "stream",
     "text": [
      "\n",
      "  Consider adding this directory to PATH or, if you prefer to suppress this warning, use --no-warn-script-location.\n",
      "WARNING: You are using pip version 21.2.4; however, version 22.0.4 is available.\n",
      "You should consider upgrading via the 'C:\\Users\\LENOVO\\AppData\\Local\\Programs\\Python\\Python310\\python.exe -m pip install --upgrade pip' command.\n"
     ]
    }
   ],
   "source": [
    "!python -m pip install pytest"
   ]
  },
  {
   "cell_type": "code",
   "execution_count": 18,
   "metadata": {},
   "outputs": [
    {
     "ename": "ModuleNotFoundError",
     "evalue": "No module named 'pytest'",
     "output_type": "error",
     "traceback": [
      "\u001b[1;31m---------------------------------------------------------------------------\u001b[0m",
      "\u001b[1;31mModuleNotFoundError\u001b[0m                       Traceback (most recent call last)",
      "\u001b[1;32mc:\\Users\\LENOVO\\Documents\\code\\apinotebook.ipynb Cell 14'\u001b[0m in \u001b[0;36m<cell line: 1>\u001b[1;34m()\u001b[0m\n\u001b[1;32m----> <a href='vscode-notebook-cell:/c%3A/Users/LENOVO/Documents/code/apinotebook.ipynb#ch0000022?line=0'>1</a>\u001b[0m \u001b[39mimport\u001b[39;00m \u001b[39mpytest\u001b[39;00m\n\u001b[0;32m      <a href='vscode-notebook-cell:/c%3A/Users/LENOVO/Documents/code/apinotebook.ipynb#ch0000022?line=1'>2</a>\u001b[0m \u001b[39mfrom\u001b[39;00m \u001b[39msrc\u001b[39;00m\u001b[39m.\u001b[39;00m\u001b[39mapp\u001b[39;00m \u001b[39mimport\u001b[39;00m app\n",
      "\u001b[1;31mModuleNotFoundError\u001b[0m: No module named 'pytest'"
     ]
    }
   ],
   "source": []
  },
  {
   "cell_type": "code",
   "execution_count": 17,
   "metadata": {},
   "outputs": [
    {
     "ename": "NameError",
     "evalue": "name 'app' is not defined",
     "output_type": "error",
     "traceback": [
      "\u001b[1;31m---------------------------------------------------------------------------\u001b[0m",
      "\u001b[1;31mNameError\u001b[0m                                 Traceback (most recent call last)",
      "\u001b[1;32mc:\\Users\\LENOVO\\Documents\\code\\apinotebook.ipynb Cell 14'\u001b[0m in \u001b[0;36m<cell line: 1>\u001b[1;34m()\u001b[0m\n\u001b[1;32m----> <a href='vscode-notebook-cell:/c%3A/Users/LENOVO/Documents/code/apinotebook.ipynb#ch0000018?line=0'>1</a>\u001b[0m test_connection()\n",
      "\u001b[1;32mc:\\Users\\LENOVO\\Documents\\code\\apinotebook.ipynb Cell 13'\u001b[0m in \u001b[0;36mtest_connection\u001b[1;34m()\u001b[0m\n\u001b[0;32m      <a href='vscode-notebook-cell:/c%3A/Users/LENOVO/Documents/code/apinotebook.ipynb#ch0000021?line=0'>1</a>\u001b[0m \u001b[39mdef\u001b[39;00m \u001b[39mtest_connection\u001b[39m():\n\u001b[1;32m----> <a href='vscode-notebook-cell:/c%3A/Users/LENOVO/Documents/code/apinotebook.ipynb#ch0000021?line=1'>2</a>\u001b[0m     \u001b[39mwith\u001b[39;00m app\u001b[39m.\u001b[39mapp_context():\n\u001b[0;32m      <a href='vscode-notebook-cell:/c%3A/Users/LENOVO/Documents/code/apinotebook.ipynb#ch0000021?line=2'>3</a>\u001b[0m         jsonify(data\u001b[39m.\u001b[39minfo)\n",
      "\u001b[1;31mNameError\u001b[0m: name 'app' is not defined"
     ]
    }
   ],
   "source": []
  },
  {
   "cell_type": "code",
   "execution_count": null,
   "metadata": {},
   "outputs": [],
   "source": []
  },
  {
   "cell_type": "code",
   "execution_count": 37,
   "metadata": {},
   "outputs": [
    {
     "data": {
      "text/plain": [
       "181000"
      ]
     },
     "execution_count": 37,
     "metadata": {},
     "output_type": "execute_result"
    }
   ],
   "source": [
    "getinfo('MSFT')"
   ]
  },
  {
   "cell_type": "code",
   "execution_count": 33,
   "metadata": {},
   "outputs": [
    {
     "data": {
      "text/plain": [
       "'Apple Inc. designs, manufactures, and markets smartphones, personal computers, tablets, wearables, and accessories worldwide. It also sells various related services. In addition, the company offers iPhone, a line of smartphones; Mac, a line of personal computers; iPad, a line of multi-purpose tablets; AirPods Max, an over-ear wireless headphone; and wearables, home, and accessories comprising AirPods, Apple TV, Apple Watch, Beats products, HomePod, and iPod touch. Further, it provides AppleCare support services; cloud services store services; and operates various platforms, including the App Store that allow customers to discover and download applications and digital content, such as books, music, video, games, and podcasts. Additionally, the company offers various services, such as Apple Arcade, a game subscription service; Apple Music, which offers users a curated listening experience with on-demand radio stations; Apple News+, a subscription news and magazine service; Apple TV+, which offers exclusive original content; Apple Card, a co-branded credit card; and Apple Pay, a cashless payment service, as well as licenses its intellectual property. The company serves consumers, and small and mid-sized businesses; and the education, enterprise, and government markets. It distributes third-party applications for its products through the App Store. The company also sells its products through its retail and online stores, and direct sales force; and third-party cellular network carriers, wholesalers, retailers, and resellers. Apple Inc. was incorporated in 1977 and is headquartered in Cupertino, California.'"
      ]
     },
     "execution_count": 33,
     "metadata": {},
     "output_type": "execute_result"
    }
   ],
   "source": []
  },
  {
   "cell_type": "code",
   "execution_count": null,
   "metadata": {},
   "outputs": [],
   "source": []
  },
  {
   "cell_type": "code",
   "execution_count": 29,
   "metadata": {},
   "outputs": [
    {
     "name": "stdout",
     "output_type": "stream",
     "text": [
      "Apple Inc.\n",
      "Apple Inc. designs, manufactures, and markets smartphones, personal computers, tablets, wearables, and accessories worldwide. It also sells various related services. In addition, the company offers iPhone, a line of smartphones; Mac, a line of personal computers; iPad, a line of multi-purpose tablets; AirPods Max, an over-ear wireless headphone; and wearables, home, and accessories comprising AirPods, Apple TV, Apple Watch, Beats products, HomePod, and iPod touch. Further, it provides AppleCare support services; cloud services store services; and operates various platforms, including the App Store that allow customers to discover and download applications and digital content, such as books, music, video, games, and podcasts. Additionally, the company offers various services, such as Apple Arcade, a game subscription service; Apple Music, which offers users a curated listening experience with on-demand radio stations; Apple News+, a subscription news and magazine service; Apple TV+, which offers exclusive original content; Apple Card, a co-branded credit card; and Apple Pay, a cashless payment service, as well as licenses its intellectual property. The company serves consumers, and small and mid-sized businesses; and the education, enterprise, and government markets. It distributes third-party applications for its products through the App Store. The company also sells its products through its retail and online stores, and direct sales force; and third-party cellular network carriers, wholesalers, retailers, and resellers. Apple Inc. was incorporated in 1977 and is headquartered in Cupertino, California.\n",
      "16319399936\n"
     ]
    }
   ],
   "source": [
    "print(appl.info['longName'])\n",
    "print(appl.info['longBusinessSummary'])\n",
    "print(appl.info['sharesOutstanding'])"
   ]
  },
  {
   "cell_type": "code",
   "execution_count": 25,
   "metadata": {},
   "outputs": [
    {
     "data": {
      "text/plain": [
       "dict_keys(['zip', 'sector', 'fullTimeEmployees', 'longBusinessSummary', 'city', 'phone', 'state', 'country', 'companyOfficers', 'website', 'maxAge', 'address1', 'industry', 'ebitdaMargins', 'profitMargins', 'grossMargins', 'operatingCashflow', 'revenueGrowth', 'operatingMargins', 'ebitda', 'targetLowPrice', 'recommendationKey', 'grossProfits', 'freeCashflow', 'targetMedianPrice', 'currentPrice', 'earningsGrowth', 'currentRatio', 'returnOnAssets', 'numberOfAnalystOpinions', 'targetMeanPrice', 'debtToEquity', 'returnOnEquity', 'targetHighPrice', 'totalCash', 'totalDebt', 'totalRevenue', 'totalCashPerShare', 'financialCurrency', 'revenuePerShare', 'quickRatio', 'recommendationMean', 'exchange', 'shortName', 'longName', 'exchangeTimezoneName', 'exchangeTimezoneShortName', 'isEsgPopulated', 'gmtOffSetMilliseconds', 'quoteType', 'symbol', 'messageBoardId', 'market', 'annualHoldingsTurnover', 'enterpriseToRevenue', 'beta3Year', 'enterpriseToEbitda', '52WeekChange', 'morningStarRiskRating', 'forwardEps', 'revenueQuarterlyGrowth', 'sharesOutstanding', 'fundInceptionDate', 'annualReportExpenseRatio', 'totalAssets', 'bookValue', 'sharesShort', 'sharesPercentSharesOut', 'fundFamily', 'lastFiscalYearEnd', 'heldPercentInstitutions', 'netIncomeToCommon', 'trailingEps', 'lastDividendValue', 'SandP52WeekChange', 'priceToBook', 'heldPercentInsiders', 'nextFiscalYearEnd', 'yield', 'mostRecentQuarter', 'shortRatio', 'sharesShortPreviousMonthDate', 'floatShares', 'beta', 'enterpriseValue', 'priceHint', 'threeYearAverageReturn', 'lastSplitDate', 'lastSplitFactor', 'legalType', 'lastDividendDate', 'morningStarOverallRating', 'earningsQuarterlyGrowth', 'priceToSalesTrailing12Months', 'dateShortInterest', 'pegRatio', 'ytdReturn', 'forwardPE', 'lastCapGain', 'shortPercentOfFloat', 'sharesShortPriorMonth', 'impliedSharesOutstanding', 'category', 'fiveYearAverageReturn', 'previousClose', 'regularMarketOpen', 'twoHundredDayAverage', 'trailingAnnualDividendYield', 'payoutRatio', 'volume24Hr', 'regularMarketDayHigh', 'navPrice', 'averageDailyVolume10Day', 'regularMarketPreviousClose', 'fiftyDayAverage', 'trailingAnnualDividendRate', 'open', 'toCurrency', 'averageVolume10days', 'expireDate', 'algorithm', 'dividendRate', 'exDividendDate', 'circulatingSupply', 'startDate', 'regularMarketDayLow', 'currency', 'trailingPE', 'regularMarketVolume', 'lastMarket', 'maxSupply', 'openInterest', 'marketCap', 'volumeAllCurrencies', 'strikePrice', 'averageVolume', 'dayLow', 'ask', 'askSize', 'volume', 'fiftyTwoWeekHigh', 'fromCurrency', 'fiveYearAvgDividendYield', 'fiftyTwoWeekLow', 'bid', 'tradeable', 'dividendYield', 'bidSize', 'dayHigh', 'regularMarketPrice', 'preMarketPrice', 'logo_url', 'trailingPegRatio'])"
      ]
     },
     "execution_count": 25,
     "metadata": {},
     "output_type": "execute_result"
    }
   ],
   "source": [
    "appl.info.keys()\n"
   ]
  },
  {
   "cell_type": "code",
   "execution_count": 22,
   "metadata": {},
   "outputs": [],
   "source": [
    "info=data.info"
   ]
  },
  {
   "cell_type": "code",
   "execution_count": 23,
   "metadata": {},
   "outputs": [
    {
     "data": {
      "text/plain": [
       "{'zip': '98052-6399',\n",
       " 'sector': 'Technology',\n",
       " 'fullTimeEmployees': 181000,\n",
       " 'longBusinessSummary': 'Microsoft Corporation develops, licenses, and supports software, services, devices, and solutions worldwide. Its Productivity and Business Processes segment offers Office, Exchange, SharePoint, Microsoft Teams, Office 365 Security and Compliance, and Skype for Business, as well as related Client Access Licenses (CAL); Skype, Outlook.com, OneDrive, and LinkedIn; and Dynamics 365, a set of cloud-based and on-premises business solutions for organizations and enterprise divisions. Its Intelligent Cloud segment licenses SQL, Windows Servers, Visual Studio, System Center, and related CALs; GitHub that provides a collaboration platform and code hosting service for developers; and Azure, a cloud platform. It also offers support services and Microsoft consulting services to assist customers in developing, deploying, and managing Microsoft server and desktop solutions; and training and certification on Microsoft products. Its More Personal Computing segment provides Windows original equipment manufacturer (OEM) licensing and other non-volume licensing of the Windows operating system; Windows Commercial, such as volume licensing of the Windows operating system, Windows cloud services, and other Windows commercial offerings; patent licensing; Windows Internet of Things; and MSN advertising. It also offers Surface, PC accessories, PCs, tablets, gaming and entertainment consoles, and other devices; Gaming, including Xbox hardware, and Xbox content and services; video games and third-party video game royalties; and Search, including Bing and Microsoft advertising. It sells its products through OEMs, distributors, and resellers; and directly through digital marketplaces, online stores, and retail stores. It has collaborations with Dynatrace, Inc., Morgan Stanley, Micro Focus, WPP plc, ACI Worldwide, Inc., and iCIMS, Inc., as well as strategic relationships with Avaya Holdings Corp. and wejo Limited. Microsoft Corporation was founded in 1975 and is based in Redmond, Washington.',\n",
       " 'city': 'Redmond',\n",
       " 'phone': '425 882 8080',\n",
       " 'state': 'WA',\n",
       " 'country': 'United States',\n",
       " 'companyOfficers': [],\n",
       " 'website': 'https://www.microsoft.com',\n",
       " 'maxAge': 1,\n",
       " 'address1': 'One Microsoft Way',\n",
       " 'industry': 'Software—Infrastructure',\n",
       " 'ebitdaMargins': 0.49123,\n",
       " 'profitMargins': 0.38498002,\n",
       " 'grossMargins': 0.68825996,\n",
       " 'operatingCashflow': 83909001216,\n",
       " 'revenueGrowth': 0.201,\n",
       " 'operatingMargins': 0.42523998,\n",
       " 'ebitda': 90829996032,\n",
       " 'targetLowPrice': 306.55,\n",
       " 'recommendationKey': 'buy',\n",
       " 'grossProfits': 115856000000,\n",
       " 'freeCashflow': 46479876096,\n",
       " 'targetMedianPrice': 370,\n",
       " 'currentPrice': 279.005,\n",
       " 'earningsGrowth': 0.222,\n",
       " 'currentRatio': 2.247,\n",
       " 'returnOnAssets': 0.15248999,\n",
       " 'numberOfAnalystOpinions': 46,\n",
       " 'targetMeanPrice': 370.89,\n",
       " 'debtToEquity': 50.217,\n",
       " 'returnOnEquity': 0.49051,\n",
       " 'targetHighPrice': 425,\n",
       " 'totalCash': 125348003840,\n",
       " 'totalDebt': 80353001472,\n",
       " 'totalRevenue': 184902991872,\n",
       " 'totalCashPerShare': 16.72,\n",
       " 'financialCurrency': 'USD',\n",
       " 'revenuePerShare': 24.585,\n",
       " 'quickRatio': 2.05,\n",
       " 'recommendationMean': 1.7,\n",
       " 'exchange': 'NMS',\n",
       " 'shortName': 'Microsoft Corporation',\n",
       " 'longName': 'Microsoft Corporation',\n",
       " 'exchangeTimezoneName': 'America/New_York',\n",
       " 'exchangeTimezoneShortName': 'EDT',\n",
       " 'isEsgPopulated': False,\n",
       " 'gmtOffSetMilliseconds': '-14400000',\n",
       " 'quoteType': 'EQUITY',\n",
       " 'symbol': 'MSFT',\n",
       " 'messageBoardId': 'finmb_21835',\n",
       " 'market': 'us_market',\n",
       " 'annualHoldingsTurnover': None,\n",
       " 'enterpriseToRevenue': 11.112,\n",
       " 'beta3Year': None,\n",
       " 'enterpriseToEbitda': 22.621,\n",
       " '52WeekChange': 0.19275153,\n",
       " 'morningStarRiskRating': None,\n",
       " 'forwardEps': 10.75,\n",
       " 'revenueQuarterlyGrowth': None,\n",
       " 'sharesOutstanding': 7496869888,\n",
       " 'fundInceptionDate': None,\n",
       " 'annualReportExpenseRatio': None,\n",
       " 'totalAssets': None,\n",
       " 'bookValue': 21.335,\n",
       " 'sharesShort': 41488998,\n",
       " 'sharesPercentSharesOut': 0.0055,\n",
       " 'fundFamily': None,\n",
       " 'lastFiscalYearEnd': 1625011200,\n",
       " 'heldPercentInstitutions': 0.71939003,\n",
       " 'netIncomeToCommon': 71184998400,\n",
       " 'trailingEps': 9.389,\n",
       " 'lastDividendValue': 0.62,\n",
       " 'SandP52WeekChange': 0.059303045,\n",
       " 'priceToBook': 13.077338,\n",
       " 'heldPercentInsiders': 0.00059,\n",
       " 'nextFiscalYearEnd': 1688083200,\n",
       " 'yield': None,\n",
       " 'mostRecentQuarter': 1640908800,\n",
       " 'shortRatio': 1.1,\n",
       " 'sharesShortPreviousMonthDate': 1643587200,\n",
       " 'floatShares': 7489894342,\n",
       " 'beta': 0.910925,\n",
       " 'enterpriseValue': 2054652428288,\n",
       " 'priceHint': 2,\n",
       " 'threeYearAverageReturn': None,\n",
       " 'lastSplitDate': 1045526400,\n",
       " 'lastSplitFactor': '2:1',\n",
       " 'legalType': None,\n",
       " 'lastDividendDate': 1644969600,\n",
       " 'morningStarOverallRating': None,\n",
       " 'earningsQuarterlyGrowth': 0.214,\n",
       " 'priceToSalesTrailing12Months': 11.312225,\n",
       " 'dateShortInterest': 1646006400,\n",
       " 'pegRatio': 1.72,\n",
       " 'ytdReturn': None,\n",
       " 'forwardPE': 25.953955,\n",
       " 'lastCapGain': None,\n",
       " 'shortPercentOfFloat': 0.0055,\n",
       " 'sharesShortPriorMonth': 40179258,\n",
       " 'impliedSharesOutstanding': 0,\n",
       " 'category': None,\n",
       " 'fiveYearAverageReturn': None,\n",
       " 'previousClose': 280.07,\n",
       " 'regularMarketOpen': 280.34,\n",
       " 'twoHundredDayAverage': 300.041,\n",
       " 'trailingAnnualDividendYield': 0.008426464,\n",
       " 'payoutRatio': 0.2449,\n",
       " 'volume24Hr': None,\n",
       " 'regularMarketDayHigh': 285.3992,\n",
       " 'navPrice': None,\n",
       " 'averageDailyVolume10Day': 34168930,\n",
       " 'regularMarketPreviousClose': 280.07,\n",
       " 'fiftyDayAverage': 302.3236,\n",
       " 'trailingAnnualDividendRate': 2.36,\n",
       " 'open': 280.34,\n",
       " 'toCurrency': None,\n",
       " 'averageVolume10days': 34168930,\n",
       " 'expireDate': None,\n",
       " 'algorithm': None,\n",
       " 'dividendRate': 2.48,\n",
       " 'exDividendDate': 1644969600,\n",
       " 'circulatingSupply': None,\n",
       " 'startDate': None,\n",
       " 'regularMarketDayLow': 278.68,\n",
       " 'currency': 'USD',\n",
       " 'trailingPE': 29.716158,\n",
       " 'regularMarketVolume': 14340517,\n",
       " 'lastMarket': None,\n",
       " 'maxSupply': None,\n",
       " 'openInterest': None,\n",
       " 'marketCap': 2091664277504,\n",
       " 'volumeAllCurrencies': None,\n",
       " 'strikePrice': None,\n",
       " 'averageVolume': 37530756,\n",
       " 'dayLow': 278.68,\n",
       " 'ask': 279.99,\n",
       " 'askSize': 1800,\n",
       " 'volume': 14340517,\n",
       " 'fiftyTwoWeekHigh': 349.67,\n",
       " 'fromCurrency': None,\n",
       " 'fiveYearAvgDividendYield': 1.34,\n",
       " 'fiftyTwoWeekLow': 229.35,\n",
       " 'bid': 279.96,\n",
       " 'tradeable': False,\n",
       " 'dividendYield': 0.0089,\n",
       " 'bidSize': 1400,\n",
       " 'dayHigh': 285.3992,\n",
       " 'regularMarketPrice': 279.005,\n",
       " 'preMarketPrice': 280.09,\n",
       " 'logo_url': 'https://logo.clearbit.com/microsoft.com',\n",
       " 'trailingPegRatio': 2.4159}"
      ]
     },
     "execution_count": 23,
     "metadata": {},
     "output_type": "execute_result"
    }
   ],
   "source": [
    "info"
   ]
  },
  {
   "cell_type": "code",
   "execution_count": 25,
   "metadata": {},
   "outputs": [
    {
     "data": {
      "text/plain": [
       "dict"
      ]
     },
     "execution_count": 25,
     "metadata": {},
     "output_type": "execute_result"
    }
   ],
   "source": [
    "type(info)"
   ]
  },
  {
   "cell_type": "code",
   "execution_count": 27,
   "metadata": {},
   "outputs": [
    {
     "data": {
      "text/plain": [
       "'{\"zip\": \"98052-6399\", \"sector\": \"Technology\", \"fullTimeEmployees\": 181000, \"longBusinessSummary\": \"Microsoft Corporation develops, licenses, and supports software, services, devices, and solutions worldwide. Its Productivity and Business Processes segment offers Office, Exchange, SharePoint, Microsoft Teams, Office 365 Security and Compliance, and Skype for Business, as well as related Client Access Licenses (CAL); Skype, Outlook.com, OneDrive, and LinkedIn; and Dynamics 365, a set of cloud-based and on-premises business solutions for organizations and enterprise divisions. Its Intelligent Cloud segment licenses SQL, Windows Servers, Visual Studio, System Center, and related CALs; GitHub that provides a collaboration platform and code hosting service for developers; and Azure, a cloud platform. It also offers support services and Microsoft consulting services to assist customers in developing, deploying, and managing Microsoft server and desktop solutions; and training and certification on Microsoft products. Its More Personal Computing segment provides Windows original equipment manufacturer (OEM) licensing and other non-volume licensing of the Windows operating system; Windows Commercial, such as volume licensing of the Windows operating system, Windows cloud services, and other Windows commercial offerings; patent licensing; Windows Internet of Things; and MSN advertising. It also offers Surface, PC accessories, PCs, tablets, gaming and entertainment consoles, and other devices; Gaming, including Xbox hardware, and Xbox content and services; video games and third-party video game royalties; and Search, including Bing and Microsoft advertising. It sells its products through OEMs, distributors, and resellers; and directly through digital marketplaces, online stores, and retail stores. It has collaborations with Dynatrace, Inc., Morgan Stanley, Micro Focus, WPP plc, ACI Worldwide, Inc., and iCIMS, Inc., as well as strategic relationships with Avaya Holdings Corp. and wejo Limited. Microsoft Corporation was founded in 1975 and is based in Redmond, Washington.\", \"city\": \"Redmond\", \"phone\": \"425 882 8080\", \"state\": \"WA\", \"country\": \"United States\", \"companyOfficers\": [], \"website\": \"https://www.microsoft.com\", \"maxAge\": 1, \"address1\": \"One Microsoft Way\", \"industry\": \"Software\\\\u2014Infrastructure\", \"ebitdaMargins\": 0.49123, \"profitMargins\": 0.38498002, \"grossMargins\": 0.68825996, \"operatingCashflow\": 83909001216, \"revenueGrowth\": 0.201, \"operatingMargins\": 0.42523998, \"ebitda\": 90829996032, \"targetLowPrice\": 306.55, \"recommendationKey\": \"buy\", \"grossProfits\": 115856000000, \"freeCashflow\": 46479876096, \"targetMedianPrice\": 370, \"currentPrice\": 279.005, \"earningsGrowth\": 0.222, \"currentRatio\": 2.247, \"returnOnAssets\": 0.15248999, \"numberOfAnalystOpinions\": 46, \"targetMeanPrice\": 370.89, \"debtToEquity\": 50.217, \"returnOnEquity\": 0.49051, \"targetHighPrice\": 425, \"totalCash\": 125348003840, \"totalDebt\": 80353001472, \"totalRevenue\": 184902991872, \"totalCashPerShare\": 16.72, \"financialCurrency\": \"USD\", \"revenuePerShare\": 24.585, \"quickRatio\": 2.05, \"recommendationMean\": 1.7, \"exchange\": \"NMS\", \"shortName\": \"Microsoft Corporation\", \"longName\": \"Microsoft Corporation\", \"exchangeTimezoneName\": \"America/New_York\", \"exchangeTimezoneShortName\": \"EDT\", \"isEsgPopulated\": false, \"gmtOffSetMilliseconds\": \"-14400000\", \"quoteType\": \"EQUITY\", \"symbol\": \"MSFT\", \"messageBoardId\": \"finmb_21835\", \"market\": \"us_market\", \"annualHoldingsTurnover\": null, \"enterpriseToRevenue\": 11.112, \"beta3Year\": null, \"enterpriseToEbitda\": 22.621, \"52WeekChange\": 0.19275153, \"morningStarRiskRating\": null, \"forwardEps\": 10.75, \"revenueQuarterlyGrowth\": null, \"sharesOutstanding\": 7496869888, \"fundInceptionDate\": null, \"annualReportExpenseRatio\": null, \"totalAssets\": null, \"bookValue\": 21.335, \"sharesShort\": 41488998, \"sharesPercentSharesOut\": 0.0055, \"fundFamily\": null, \"lastFiscalYearEnd\": 1625011200, \"heldPercentInstitutions\": 0.71939003, \"netIncomeToCommon\": 71184998400, \"trailingEps\": 9.389, \"lastDividendValue\": 0.62, \"SandP52WeekChange\": 0.059303045, \"priceToBook\": 13.077338, \"heldPercentInsiders\": 0.00059, \"nextFiscalYearEnd\": 1688083200, \"yield\": null, \"mostRecentQuarter\": 1640908800, \"shortRatio\": 1.1, \"sharesShortPreviousMonthDate\": 1643587200, \"floatShares\": 7489894342, \"beta\": 0.910925, \"enterpriseValue\": 2054652428288, \"priceHint\": 2, \"threeYearAverageReturn\": null, \"lastSplitDate\": 1045526400, \"lastSplitFactor\": \"2:1\", \"legalType\": null, \"lastDividendDate\": 1644969600, \"morningStarOverallRating\": null, \"earningsQuarterlyGrowth\": 0.214, \"priceToSalesTrailing12Months\": 11.312225, \"dateShortInterest\": 1646006400, \"pegRatio\": 1.72, \"ytdReturn\": null, \"forwardPE\": 25.953955, \"lastCapGain\": null, \"shortPercentOfFloat\": 0.0055, \"sharesShortPriorMonth\": 40179258, \"impliedSharesOutstanding\": 0, \"category\": null, \"fiveYearAverageReturn\": null, \"previousClose\": 280.07, \"regularMarketOpen\": 280.34, \"twoHundredDayAverage\": 300.041, \"trailingAnnualDividendYield\": 0.008426464, \"payoutRatio\": 0.2449, \"volume24Hr\": null, \"regularMarketDayHigh\": 285.3992, \"navPrice\": null, \"averageDailyVolume10Day\": 34168930, \"regularMarketPreviousClose\": 280.07, \"fiftyDayAverage\": 302.3236, \"trailingAnnualDividendRate\": 2.36, \"open\": 280.34, \"toCurrency\": null, \"averageVolume10days\": 34168930, \"expireDate\": null, \"algorithm\": null, \"dividendRate\": 2.48, \"exDividendDate\": 1644969600, \"circulatingSupply\": null, \"startDate\": null, \"regularMarketDayLow\": 278.68, \"currency\": \"USD\", \"trailingPE\": 29.716158, \"regularMarketVolume\": 14340517, \"lastMarket\": null, \"maxSupply\": null, \"openInterest\": null, \"marketCap\": 2091664277504, \"volumeAllCurrencies\": null, \"strikePrice\": null, \"averageVolume\": 37530756, \"dayLow\": 278.68, \"ask\": 279.99, \"askSize\": 1800, \"volume\": 14340517, \"fiftyTwoWeekHigh\": 349.67, \"fromCurrency\": null, \"fiveYearAvgDividendYield\": 1.34, \"fiftyTwoWeekLow\": 229.35, \"bid\": 279.96, \"tradeable\": false, \"dividendYield\": 0.0089, \"bidSize\": 1400, \"dayHigh\": 285.3992, \"regularMarketPrice\": 279.005, \"preMarketPrice\": 280.09, \"logo_url\": \"https://logo.clearbit.com/microsoft.com\", \"trailingPegRatio\": 2.4159}'"
      ]
     },
     "execution_count": 27,
     "metadata": {},
     "output_type": "execute_result"
    }
   ],
   "source": [
    "import json \n",
    "json.dumps(info)"
   ]
  },
  {
   "cell_type": "code",
   "execution_count": null,
   "metadata": {},
   "outputs": [],
   "source": []
  }
 ],
 "metadata": {
  "interpreter": {
   "hash": "94dfd0829861ea723591b3001b7b8d6efd29c21741fffd6b6a162c01382c010b"
  },
  "kernelspec": {
   "display_name": "Python 3.10.2 64-bit",
   "language": "python",
   "name": "python3"
  },
  "language_info": {
   "codemirror_mode": {
    "name": "ipython",
    "version": 3
   },
   "file_extension": ".py",
   "mimetype": "text/x-python",
   "name": "python",
   "nbconvert_exporter": "python",
   "pygments_lexer": "ipython3",
   "version": "3.10.2"
  },
  "orig_nbformat": 4
 },
 "nbformat": 4,
 "nbformat_minor": 2
}
